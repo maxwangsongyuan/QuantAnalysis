{
  "nbformat": 4,
  "nbformat_minor": 0,
  "metadata": {
    "kernelspec": {
      "display_name": "Python 3",
      "language": "python",
      "name": "python3"
    },
    "language_info": {
      "codemirror_mode": {
        "name": "ipython",
        "version": 3
      },
      "file_extension": ".py",
      "mimetype": "text/x-python",
      "name": "python",
      "nbconvert_exporter": "python",
      "pygments_lexer": "ipython3",
      "version": "3.8.5"
    },
    "colab": {
      "name": "Copy of Workshop 4 - Intro to Pandas in Python, Data cleaning and Basic Statistics-checkpoint.ipynb",
      "provenance": [],
      "include_colab_link": true
    }
  },
  "cells": [
    {
      "cell_type": "markdown",
      "metadata": {
        "id": "view-in-github",
        "colab_type": "text"
      },
      "source": [
        "<a href=\"https://colab.research.google.com/github/wangsongyuan98/QuantAnalysis/blob/main/Copy_of_Workshop_4_Intro_to_Pandas_in_Python%2C_Data_cleaning_and_Basic_Statistics_checkpoint.ipynb\" target=\"_parent\"><img src=\"https://colab.research.google.com/assets/colab-badge.svg\" alt=\"Open In Colab\"/></a>"
      ]
    },
    {
      "cell_type": "markdown",
      "metadata": {
        "id": "0Lbnbv-mX_4V"
      },
      "source": [
        "# Hello Everyone!\n",
        "\n",
        "\n",
        "Workshop data and topics come from RealPython and Stat200 Material: https://realpython.com/python-data-cleaning-numpy-pandas/\n",
        "\n",
        "I hope everyone's having a good week, this week, in replacement to our original powerpoint slides, we are going to use Jupyter Notebooks. Jupyter Notebooks are a super versitile tool that can be used to analyze and communicate data and insights. Jupyter notebook uses Python which is one of the most popular and versitile programming languages out there. For this lecture, we are going to focus on the basics of using Python for data science, as well as two tools that you'll use every day as a data scientist and quantitative Trader: Pandas and Numpy"
      ]
    },
    {
      "cell_type": "markdown",
      "metadata": {
        "id": "K5JkSCVrX_4a"
      },
      "source": [
        "## Importing into python\n",
        "\n",
        "Python starts as a blank slate, and in order to use your tools, you have to import them. This is no different from a construction worker or carpenter. They start with an empty tool belt, and when they need to use a certain tool, they put it in their tool belt as they need it. Carrying around every single tool that exists is way too heavy would probably make your pants fall down. Precisely for this reason, the import system comes in extremely handy when make efficient notebooks!\n",
        "\n",
        "Here's an example of what an import looks like"
      ]
    },
    {
      "cell_type": "code",
      "metadata": {
        "id": "xg5GmDmlX_4a"
      },
      "source": [
        "import pandas as pd #this line imports the pandas toolkit, and we chose to name it 'pd' for short\n",
        "import numpy as np #this line imports the numpy toolkit, and we chose to name it 'np' for short"
      ],
      "execution_count": null,
      "outputs": []
    },
    {
      "cell_type": "markdown",
      "metadata": {
        "id": "hlVj-SEDX_4b"
      },
      "source": [
        "That wasn't so bad! Next, lets look into reading and cleaning data."
      ]
    },
    {
      "cell_type": "markdown",
      "metadata": {
        "id": "UIVuxURLX_4b"
      },
      "source": [
        "## And then there was data: Reading in a csv file and creating a dataframe\n",
        "\n",
        "In the algorithm development process, once we create our hypothesis, we need to find data that we can use to either support or reject our hypothesis. This is done by reading in a file. Essentially this means that we take a file, and turn it into something that we can use in our Notebook. The most common types of files are Comma Separated Value (.csv) files. They tend to have the same icon as the Microsoft Excel files, but if you click on them, you'll be able to see where they get their names from, as they are literally a file of comma separated values. You can read these files using the .readcsv() function like so"
      ]
    },
    {
      "cell_type": "code",
      "metadata": {
        "id": "hqu6d-aLX_4b",
        "outputId": "a0c6e953-f6e8-475a-d8a6-0cc4d51e0b62"
      },
      "source": [
        "pd.read_csv('BL-Flickr-Images-Book.csv')"
      ],
      "execution_count": null,
      "outputs": [
        {
          "output_type": "execute_result",
          "data": {
            "text/html": [
              "<div>\n",
              "<style scoped>\n",
              "    .dataframe tbody tr th:only-of-type {\n",
              "        vertical-align: middle;\n",
              "    }\n",
              "\n",
              "    .dataframe tbody tr th {\n",
              "        vertical-align: top;\n",
              "    }\n",
              "\n",
              "    .dataframe thead th {\n",
              "        text-align: right;\n",
              "    }\n",
              "</style>\n",
              "<table border=\"1\" class=\"dataframe\">\n",
              "  <thead>\n",
              "    <tr style=\"text-align: right;\">\n",
              "      <th></th>\n",
              "      <th>Identifier</th>\n",
              "      <th>Edition Statement</th>\n",
              "      <th>Place of Publication</th>\n",
              "      <th>Date of Publication</th>\n",
              "      <th>Publisher</th>\n",
              "      <th>Title</th>\n",
              "      <th>Author</th>\n",
              "      <th>Contributors</th>\n",
              "      <th>Corporate Author</th>\n",
              "      <th>Corporate Contributors</th>\n",
              "      <th>Former owner</th>\n",
              "      <th>Engraver</th>\n",
              "      <th>Issuance type</th>\n",
              "      <th>Flickr URL</th>\n",
              "      <th>Shelfmarks</th>\n",
              "    </tr>\n",
              "  </thead>\n",
              "  <tbody>\n",
              "    <tr>\n",
              "      <th>0</th>\n",
              "      <td>206</td>\n",
              "      <td>NaN</td>\n",
              "      <td>London</td>\n",
              "      <td>1879 [1878]</td>\n",
              "      <td>S. Tinsley &amp; Co.</td>\n",
              "      <td>Walter Forbes. [A novel.] By A. A</td>\n",
              "      <td>A. A.</td>\n",
              "      <td>FORBES, Walter.</td>\n",
              "      <td>NaN</td>\n",
              "      <td>NaN</td>\n",
              "      <td>NaN</td>\n",
              "      <td>NaN</td>\n",
              "      <td>monographic</td>\n",
              "      <td>http://www.flickr.com/photos/britishlibrary/ta...</td>\n",
              "      <td>British Library HMNTS 12641.b.30.</td>\n",
              "    </tr>\n",
              "    <tr>\n",
              "      <th>1</th>\n",
              "      <td>216</td>\n",
              "      <td>NaN</td>\n",
              "      <td>London; Virtue &amp; Yorston</td>\n",
              "      <td>1868</td>\n",
              "      <td>Virtue &amp; Co.</td>\n",
              "      <td>All for Greed. [A novel. The dedication signed...</td>\n",
              "      <td>A., A. A.</td>\n",
              "      <td>BLAZE DE BURY, Marie Pauline Rose - Baroness</td>\n",
              "      <td>NaN</td>\n",
              "      <td>NaN</td>\n",
              "      <td>NaN</td>\n",
              "      <td>NaN</td>\n",
              "      <td>monographic</td>\n",
              "      <td>http://www.flickr.com/photos/britishlibrary/ta...</td>\n",
              "      <td>British Library HMNTS 12626.cc.2.</td>\n",
              "    </tr>\n",
              "    <tr>\n",
              "      <th>2</th>\n",
              "      <td>218</td>\n",
              "      <td>NaN</td>\n",
              "      <td>London</td>\n",
              "      <td>1869</td>\n",
              "      <td>Bradbury, Evans &amp; Co.</td>\n",
              "      <td>Love the Avenger. By the author of “All for Gr...</td>\n",
              "      <td>A., A. A.</td>\n",
              "      <td>BLAZE DE BURY, Marie Pauline Rose - Baroness</td>\n",
              "      <td>NaN</td>\n",
              "      <td>NaN</td>\n",
              "      <td>NaN</td>\n",
              "      <td>NaN</td>\n",
              "      <td>monographic</td>\n",
              "      <td>http://www.flickr.com/photos/britishlibrary/ta...</td>\n",
              "      <td>British Library HMNTS 12625.dd.1.</td>\n",
              "    </tr>\n",
              "    <tr>\n",
              "      <th>3</th>\n",
              "      <td>472</td>\n",
              "      <td>NaN</td>\n",
              "      <td>London</td>\n",
              "      <td>1851</td>\n",
              "      <td>James Darling</td>\n",
              "      <td>Welsh Sketches, chiefly ecclesiastical, to the...</td>\n",
              "      <td>A., E. S.</td>\n",
              "      <td>Appleyard, Ernest Silvanus.</td>\n",
              "      <td>NaN</td>\n",
              "      <td>NaN</td>\n",
              "      <td>NaN</td>\n",
              "      <td>NaN</td>\n",
              "      <td>monographic</td>\n",
              "      <td>http://www.flickr.com/photos/britishlibrary/ta...</td>\n",
              "      <td>British Library HMNTS 10369.bbb.15.</td>\n",
              "    </tr>\n",
              "    <tr>\n",
              "      <th>4</th>\n",
              "      <td>480</td>\n",
              "      <td>A new edition, revised, etc.</td>\n",
              "      <td>London</td>\n",
              "      <td>1857</td>\n",
              "      <td>Wertheim &amp; Macintosh</td>\n",
              "      <td>[The World in which I live, and my place in it...</td>\n",
              "      <td>A., E. S.</td>\n",
              "      <td>BROOME, John Henry.</td>\n",
              "      <td>NaN</td>\n",
              "      <td>NaN</td>\n",
              "      <td>NaN</td>\n",
              "      <td>NaN</td>\n",
              "      <td>monographic</td>\n",
              "      <td>http://www.flickr.com/photos/britishlibrary/ta...</td>\n",
              "      <td>British Library HMNTS 9007.d.28.</td>\n",
              "    </tr>\n",
              "    <tr>\n",
              "      <th>...</th>\n",
              "      <td>...</td>\n",
              "      <td>...</td>\n",
              "      <td>...</td>\n",
              "      <td>...</td>\n",
              "      <td>...</td>\n",
              "      <td>...</td>\n",
              "      <td>...</td>\n",
              "      <td>...</td>\n",
              "      <td>...</td>\n",
              "      <td>...</td>\n",
              "      <td>...</td>\n",
              "      <td>...</td>\n",
              "      <td>...</td>\n",
              "      <td>...</td>\n",
              "      <td>...</td>\n",
              "    </tr>\n",
              "    <tr>\n",
              "      <th>8282</th>\n",
              "      <td>4158088</td>\n",
              "      <td>NaN</td>\n",
              "      <td>London</td>\n",
              "      <td>1838</td>\n",
              "      <td>NaN</td>\n",
              "      <td>The Parochial History of Cornwall, founded on,...</td>\n",
              "      <td>GIDDY, afterwards GILBERT, Davies.</td>\n",
              "      <td>BOASE, Henry Samuel.|HALS, William.|LYSONS, Da...</td>\n",
              "      <td>NaN</td>\n",
              "      <td>NaN</td>\n",
              "      <td>NaN</td>\n",
              "      <td>NaN</td>\n",
              "      <td>monographic</td>\n",
              "      <td>http://www.flickr.com/photos/britishlibrary/ta...</td>\n",
              "      <td>British Library HMNTS|British Library HMNTS 10...</td>\n",
              "    </tr>\n",
              "    <tr>\n",
              "      <th>8283</th>\n",
              "      <td>4158128</td>\n",
              "      <td>NaN</td>\n",
              "      <td>Derby</td>\n",
              "      <td>1831, 32</td>\n",
              "      <td>M. Mozley &amp; Son</td>\n",
              "      <td>The History and Gazetteer of the County of Der...</td>\n",
              "      <td>GLOVER, Stephen - of Derby</td>\n",
              "      <td>NOBLE, Thomas.</td>\n",
              "      <td>NaN</td>\n",
              "      <td>NaN</td>\n",
              "      <td>NaN</td>\n",
              "      <td>NaN</td>\n",
              "      <td>monographic</td>\n",
              "      <td>http://www.flickr.com/photos/britishlibrary/ta...</td>\n",
              "      <td>British Library HMNTS|British Library HMNTS 10...</td>\n",
              "    </tr>\n",
              "    <tr>\n",
              "      <th>8284</th>\n",
              "      <td>4159563</td>\n",
              "      <td>NaN</td>\n",
              "      <td>London</td>\n",
              "      <td>[1806]-22</td>\n",
              "      <td>T. Cadell and W. Davies</td>\n",
              "      <td>Magna Britannia; being a concise topographical...</td>\n",
              "      <td>LYSONS, Daniel - M.A., F.R.S., and LYSONS (Sam...</td>\n",
              "      <td>GREGSON, Matthew.|LYSONS, Samuel - F.R.S</td>\n",
              "      <td>NaN</td>\n",
              "      <td>NaN</td>\n",
              "      <td>NaN</td>\n",
              "      <td>NaN</td>\n",
              "      <td>monographic</td>\n",
              "      <td>http://www.flickr.com/photos/britishlibrary/ta...</td>\n",
              "      <td>British Library HMNTS|British Library HMNTS 19...</td>\n",
              "    </tr>\n",
              "    <tr>\n",
              "      <th>8285</th>\n",
              "      <td>4159587</td>\n",
              "      <td>NaN</td>\n",
              "      <td>Newcastle upon Tyne</td>\n",
              "      <td>1834</td>\n",
              "      <td>Mackenzie &amp; Dent</td>\n",
              "      <td>An historical, topographical and descriptive v...</td>\n",
              "      <td>Mackenzie, E. (Eneas)</td>\n",
              "      <td>ROSS, M. - of Durham</td>\n",
              "      <td>NaN</td>\n",
              "      <td>NaN</td>\n",
              "      <td>NaN</td>\n",
              "      <td>NaN</td>\n",
              "      <td>monographic</td>\n",
              "      <td>http://www.flickr.com/photos/britishlibrary/ta...</td>\n",
              "      <td>British Library HMNTS|British Library HMNTS 10...</td>\n",
              "    </tr>\n",
              "    <tr>\n",
              "      <th>8286</th>\n",
              "      <td>4160339</td>\n",
              "      <td>NaN</td>\n",
              "      <td>London</td>\n",
              "      <td>1834-43</td>\n",
              "      <td>NaN</td>\n",
              "      <td>Collectanea Topographica et Genealogica. [Firs...</td>\n",
              "      <td>NaN</td>\n",
              "      <td>BANDINEL, Bulkeley.|Nichols, John Gough</td>\n",
              "      <td>NaN</td>\n",
              "      <td>NaN</td>\n",
              "      <td>NaN</td>\n",
              "      <td>NaN</td>\n",
              "      <td>continuing</td>\n",
              "      <td>http://www.flickr.com/photos/britishlibrary/ta...</td>\n",
              "      <td>British Library HMNTS|British Library HMNTS 79...</td>\n",
              "    </tr>\n",
              "  </tbody>\n",
              "</table>\n",
              "<p>8287 rows × 15 columns</p>\n",
              "</div>"
            ],
            "text/plain": [
              "      Identifier             Edition Statement      Place of Publication  \\\n",
              "0            206                           NaN                    London   \n",
              "1            216                           NaN  London; Virtue & Yorston   \n",
              "2            218                           NaN                    London   \n",
              "3            472                           NaN                    London   \n",
              "4            480  A new edition, revised, etc.                    London   \n",
              "...          ...                           ...                       ...   \n",
              "8282     4158088                           NaN                    London   \n",
              "8283     4158128                           NaN                     Derby   \n",
              "8284     4159563                           NaN                    London   \n",
              "8285     4159587                           NaN       Newcastle upon Tyne   \n",
              "8286     4160339                           NaN                    London   \n",
              "\n",
              "     Date of Publication                Publisher  \\\n",
              "0            1879 [1878]         S. Tinsley & Co.   \n",
              "1                   1868             Virtue & Co.   \n",
              "2                   1869    Bradbury, Evans & Co.   \n",
              "3                   1851            James Darling   \n",
              "4                   1857     Wertheim & Macintosh   \n",
              "...                  ...                      ...   \n",
              "8282                1838                      NaN   \n",
              "8283            1831, 32          M. Mozley & Son   \n",
              "8284           [1806]-22  T. Cadell and W. Davies   \n",
              "8285                1834         Mackenzie & Dent   \n",
              "8286             1834-43                      NaN   \n",
              "\n",
              "                                                  Title  \\\n",
              "0                     Walter Forbes. [A novel.] By A. A   \n",
              "1     All for Greed. [A novel. The dedication signed...   \n",
              "2     Love the Avenger. By the author of “All for Gr...   \n",
              "3     Welsh Sketches, chiefly ecclesiastical, to the...   \n",
              "4     [The World in which I live, and my place in it...   \n",
              "...                                                 ...   \n",
              "8282  The Parochial History of Cornwall, founded on,...   \n",
              "8283  The History and Gazetteer of the County of Der...   \n",
              "8284  Magna Britannia; being a concise topographical...   \n",
              "8285  An historical, topographical and descriptive v...   \n",
              "8286  Collectanea Topographica et Genealogica. [Firs...   \n",
              "\n",
              "                                                 Author  \\\n",
              "0                                                 A. A.   \n",
              "1                                             A., A. A.   \n",
              "2                                             A., A. A.   \n",
              "3                                             A., E. S.   \n",
              "4                                             A., E. S.   \n",
              "...                                                 ...   \n",
              "8282                 GIDDY, afterwards GILBERT, Davies.   \n",
              "8283                         GLOVER, Stephen - of Derby   \n",
              "8284  LYSONS, Daniel - M.A., F.R.S., and LYSONS (Sam...   \n",
              "8285                              Mackenzie, E. (Eneas)   \n",
              "8286                                                NaN   \n",
              "\n",
              "                                           Contributors  Corporate Author  \\\n",
              "0                                       FORBES, Walter.               NaN   \n",
              "1          BLAZE DE BURY, Marie Pauline Rose - Baroness               NaN   \n",
              "2          BLAZE DE BURY, Marie Pauline Rose - Baroness               NaN   \n",
              "3                           Appleyard, Ernest Silvanus.               NaN   \n",
              "4                                   BROOME, John Henry.               NaN   \n",
              "...                                                 ...               ...   \n",
              "8282  BOASE, Henry Samuel.|HALS, William.|LYSONS, Da...               NaN   \n",
              "8283                                     NOBLE, Thomas.               NaN   \n",
              "8284           GREGSON, Matthew.|LYSONS, Samuel - F.R.S               NaN   \n",
              "8285                               ROSS, M. - of Durham               NaN   \n",
              "8286            BANDINEL, Bulkeley.|Nichols, John Gough               NaN   \n",
              "\n",
              "      Corporate Contributors Former owner  Engraver Issuance type  \\\n",
              "0                        NaN          NaN       NaN   monographic   \n",
              "1                        NaN          NaN       NaN   monographic   \n",
              "2                        NaN          NaN       NaN   monographic   \n",
              "3                        NaN          NaN       NaN   monographic   \n",
              "4                        NaN          NaN       NaN   monographic   \n",
              "...                      ...          ...       ...           ...   \n",
              "8282                     NaN          NaN       NaN   monographic   \n",
              "8283                     NaN          NaN       NaN   monographic   \n",
              "8284                     NaN          NaN       NaN   monographic   \n",
              "8285                     NaN          NaN       NaN   monographic   \n",
              "8286                     NaN          NaN       NaN    continuing   \n",
              "\n",
              "                                             Flickr URL  \\\n",
              "0     http://www.flickr.com/photos/britishlibrary/ta...   \n",
              "1     http://www.flickr.com/photos/britishlibrary/ta...   \n",
              "2     http://www.flickr.com/photos/britishlibrary/ta...   \n",
              "3     http://www.flickr.com/photos/britishlibrary/ta...   \n",
              "4     http://www.flickr.com/photos/britishlibrary/ta...   \n",
              "...                                                 ...   \n",
              "8282  http://www.flickr.com/photos/britishlibrary/ta...   \n",
              "8283  http://www.flickr.com/photos/britishlibrary/ta...   \n",
              "8284  http://www.flickr.com/photos/britishlibrary/ta...   \n",
              "8285  http://www.flickr.com/photos/britishlibrary/ta...   \n",
              "8286  http://www.flickr.com/photos/britishlibrary/ta...   \n",
              "\n",
              "                                             Shelfmarks  \n",
              "0                     British Library HMNTS 12641.b.30.  \n",
              "1                     British Library HMNTS 12626.cc.2.  \n",
              "2                     British Library HMNTS 12625.dd.1.  \n",
              "3                   British Library HMNTS 10369.bbb.15.  \n",
              "4                      British Library HMNTS 9007.d.28.  \n",
              "...                                                 ...  \n",
              "8282  British Library HMNTS|British Library HMNTS 10...  \n",
              "8283  British Library HMNTS|British Library HMNTS 10...  \n",
              "8284  British Library HMNTS|British Library HMNTS 19...  \n",
              "8285  British Library HMNTS|British Library HMNTS 10...  \n",
              "8286  British Library HMNTS|British Library HMNTS 79...  \n",
              "\n",
              "[8287 rows x 15 columns]"
            ]
          },
          "metadata": {
            "tags": []
          },
          "execution_count": 9
        }
      ]
    },
    {
      "cell_type": "markdown",
      "metadata": {
        "id": "XhnmX4RfX_4c"
      },
      "source": [
        "We just read the data file! It looks really pretty compared to the raw csv file, but how are we supposed to use it? Oops, how are we supposed to save it. This is where variables come in. Just like any other data structure, you can save the file into a variable. This variable is called a DataFrame, and is most commonly called 'df'. However, you can call it whatever you like. In addition to saving it this time, we can also use the '.head()' function to display the data as well"
      ]
    },
    {
      "cell_type": "code",
      "metadata": {
        "id": "2I-XKqrEX_4d",
        "outputId": "da491c79-fdf2-4339-8c3b-396335bd639e"
      },
      "source": [
        "df = pd.read_csv('BL-Flickr-Images-Book.csv')\n",
        "#We're going to be using this second dataframe for future parts of the workshop\n",
        "height_df = pd.read_csv('heights.txt', sep=' ') #By specifying how the data is separated, it allows us to read this .txt file\n",
        "df.head() #Shows the first 5 rows of data.  \n",
        "\n",
        "\n",
        "#You can put any number you want in the parenthesis and this will change the number of rows displayed"
      ],
      "execution_count": null,
      "outputs": [
        {
          "output_type": "execute_result",
          "data": {
            "text/html": [
              "<div>\n",
              "<style scoped>\n",
              "    .dataframe tbody tr th:only-of-type {\n",
              "        vertical-align: middle;\n",
              "    }\n",
              "\n",
              "    .dataframe tbody tr th {\n",
              "        vertical-align: top;\n",
              "    }\n",
              "\n",
              "    .dataframe thead th {\n",
              "        text-align: right;\n",
              "    }\n",
              "</style>\n",
              "<table border=\"1\" class=\"dataframe\">\n",
              "  <thead>\n",
              "    <tr style=\"text-align: right;\">\n",
              "      <th></th>\n",
              "      <th>Identifier</th>\n",
              "      <th>Edition Statement</th>\n",
              "      <th>Place of Publication</th>\n",
              "      <th>Date of Publication</th>\n",
              "      <th>Publisher</th>\n",
              "      <th>Title</th>\n",
              "      <th>Author</th>\n",
              "      <th>Contributors</th>\n",
              "      <th>Corporate Author</th>\n",
              "      <th>Corporate Contributors</th>\n",
              "      <th>Former owner</th>\n",
              "      <th>Engraver</th>\n",
              "      <th>Issuance type</th>\n",
              "      <th>Flickr URL</th>\n",
              "      <th>Shelfmarks</th>\n",
              "    </tr>\n",
              "  </thead>\n",
              "  <tbody>\n",
              "    <tr>\n",
              "      <th>0</th>\n",
              "      <td>206</td>\n",
              "      <td>NaN</td>\n",
              "      <td>London</td>\n",
              "      <td>1879 [1878]</td>\n",
              "      <td>S. Tinsley &amp; Co.</td>\n",
              "      <td>Walter Forbes. [A novel.] By A. A</td>\n",
              "      <td>A. A.</td>\n",
              "      <td>FORBES, Walter.</td>\n",
              "      <td>NaN</td>\n",
              "      <td>NaN</td>\n",
              "      <td>NaN</td>\n",
              "      <td>NaN</td>\n",
              "      <td>monographic</td>\n",
              "      <td>http://www.flickr.com/photos/britishlibrary/ta...</td>\n",
              "      <td>British Library HMNTS 12641.b.30.</td>\n",
              "    </tr>\n",
              "    <tr>\n",
              "      <th>1</th>\n",
              "      <td>216</td>\n",
              "      <td>NaN</td>\n",
              "      <td>London; Virtue &amp; Yorston</td>\n",
              "      <td>1868</td>\n",
              "      <td>Virtue &amp; Co.</td>\n",
              "      <td>All for Greed. [A novel. The dedication signed...</td>\n",
              "      <td>A., A. A.</td>\n",
              "      <td>BLAZE DE BURY, Marie Pauline Rose - Baroness</td>\n",
              "      <td>NaN</td>\n",
              "      <td>NaN</td>\n",
              "      <td>NaN</td>\n",
              "      <td>NaN</td>\n",
              "      <td>monographic</td>\n",
              "      <td>http://www.flickr.com/photos/britishlibrary/ta...</td>\n",
              "      <td>British Library HMNTS 12626.cc.2.</td>\n",
              "    </tr>\n",
              "    <tr>\n",
              "      <th>2</th>\n",
              "      <td>218</td>\n",
              "      <td>NaN</td>\n",
              "      <td>London</td>\n",
              "      <td>1869</td>\n",
              "      <td>Bradbury, Evans &amp; Co.</td>\n",
              "      <td>Love the Avenger. By the author of “All for Gr...</td>\n",
              "      <td>A., A. A.</td>\n",
              "      <td>BLAZE DE BURY, Marie Pauline Rose - Baroness</td>\n",
              "      <td>NaN</td>\n",
              "      <td>NaN</td>\n",
              "      <td>NaN</td>\n",
              "      <td>NaN</td>\n",
              "      <td>monographic</td>\n",
              "      <td>http://www.flickr.com/photos/britishlibrary/ta...</td>\n",
              "      <td>British Library HMNTS 12625.dd.1.</td>\n",
              "    </tr>\n",
              "    <tr>\n",
              "      <th>3</th>\n",
              "      <td>472</td>\n",
              "      <td>NaN</td>\n",
              "      <td>London</td>\n",
              "      <td>1851</td>\n",
              "      <td>James Darling</td>\n",
              "      <td>Welsh Sketches, chiefly ecclesiastical, to the...</td>\n",
              "      <td>A., E. S.</td>\n",
              "      <td>Appleyard, Ernest Silvanus.</td>\n",
              "      <td>NaN</td>\n",
              "      <td>NaN</td>\n",
              "      <td>NaN</td>\n",
              "      <td>NaN</td>\n",
              "      <td>monographic</td>\n",
              "      <td>http://www.flickr.com/photos/britishlibrary/ta...</td>\n",
              "      <td>British Library HMNTS 10369.bbb.15.</td>\n",
              "    </tr>\n",
              "    <tr>\n",
              "      <th>4</th>\n",
              "      <td>480</td>\n",
              "      <td>A new edition, revised, etc.</td>\n",
              "      <td>London</td>\n",
              "      <td>1857</td>\n",
              "      <td>Wertheim &amp; Macintosh</td>\n",
              "      <td>[The World in which I live, and my place in it...</td>\n",
              "      <td>A., E. S.</td>\n",
              "      <td>BROOME, John Henry.</td>\n",
              "      <td>NaN</td>\n",
              "      <td>NaN</td>\n",
              "      <td>NaN</td>\n",
              "      <td>NaN</td>\n",
              "      <td>monographic</td>\n",
              "      <td>http://www.flickr.com/photos/britishlibrary/ta...</td>\n",
              "      <td>British Library HMNTS 9007.d.28.</td>\n",
              "    </tr>\n",
              "  </tbody>\n",
              "</table>\n",
              "</div>"
            ],
            "text/plain": [
              "   Identifier             Edition Statement      Place of Publication  \\\n",
              "0         206                           NaN                    London   \n",
              "1         216                           NaN  London; Virtue & Yorston   \n",
              "2         218                           NaN                    London   \n",
              "3         472                           NaN                    London   \n",
              "4         480  A new edition, revised, etc.                    London   \n",
              "\n",
              "  Date of Publication              Publisher  \\\n",
              "0         1879 [1878]       S. Tinsley & Co.   \n",
              "1                1868           Virtue & Co.   \n",
              "2                1869  Bradbury, Evans & Co.   \n",
              "3                1851          James Darling   \n",
              "4                1857   Wertheim & Macintosh   \n",
              "\n",
              "                                               Title     Author  \\\n",
              "0                  Walter Forbes. [A novel.] By A. A      A. A.   \n",
              "1  All for Greed. [A novel. The dedication signed...  A., A. A.   \n",
              "2  Love the Avenger. By the author of “All for Gr...  A., A. A.   \n",
              "3  Welsh Sketches, chiefly ecclesiastical, to the...  A., E. S.   \n",
              "4  [The World in which I live, and my place in it...  A., E. S.   \n",
              "\n",
              "                                   Contributors  Corporate Author  \\\n",
              "0                               FORBES, Walter.               NaN   \n",
              "1  BLAZE DE BURY, Marie Pauline Rose - Baroness               NaN   \n",
              "2  BLAZE DE BURY, Marie Pauline Rose - Baroness               NaN   \n",
              "3                   Appleyard, Ernest Silvanus.               NaN   \n",
              "4                           BROOME, John Henry.               NaN   \n",
              "\n",
              "   Corporate Contributors Former owner  Engraver Issuance type  \\\n",
              "0                     NaN          NaN       NaN   monographic   \n",
              "1                     NaN          NaN       NaN   monographic   \n",
              "2                     NaN          NaN       NaN   monographic   \n",
              "3                     NaN          NaN       NaN   monographic   \n",
              "4                     NaN          NaN       NaN   monographic   \n",
              "\n",
              "                                          Flickr URL  \\\n",
              "0  http://www.flickr.com/photos/britishlibrary/ta...   \n",
              "1  http://www.flickr.com/photos/britishlibrary/ta...   \n",
              "2  http://www.flickr.com/photos/britishlibrary/ta...   \n",
              "3  http://www.flickr.com/photos/britishlibrary/ta...   \n",
              "4  http://www.flickr.com/photos/britishlibrary/ta...   \n",
              "\n",
              "                            Shelfmarks  \n",
              "0    British Library HMNTS 12641.b.30.  \n",
              "1    British Library HMNTS 12626.cc.2.  \n",
              "2    British Library HMNTS 12625.dd.1.  \n",
              "3  British Library HMNTS 10369.bbb.15.  \n",
              "4     British Library HMNTS 9007.d.28.  "
            ]
          },
          "metadata": {
            "tags": []
          },
          "execution_count": 10
        }
      ]
    },
    {
      "cell_type": "markdown",
      "metadata": {
        "id": "BdhcfDhOX_4d"
      },
      "source": [
        "## Reading and understanding our data\n",
        "Being able to understand what our data is is the most important part of being able to work with it. We already used the .head function, but lets look at it again with our height dataset."
      ]
    },
    {
      "cell_type": "code",
      "metadata": {
        "id": "WBJHET_7X_4d",
        "outputId": "9ddb6082-e9bc-4517-9006-b8b4dc4392e1"
      },
      "source": [
        "height_df.head()"
      ],
      "execution_count": null,
      "outputs": [
        {
          "output_type": "execute_result",
          "data": {
            "text/html": [
              "<div>\n",
              "<style scoped>\n",
              "    .dataframe tbody tr th:only-of-type {\n",
              "        vertical-align: middle;\n",
              "    }\n",
              "\n",
              "    .dataframe tbody tr th {\n",
              "        vertical-align: top;\n",
              "    }\n",
              "\n",
              "    .dataframe thead th {\n",
              "        text-align: right;\n",
              "    }\n",
              "</style>\n",
              "<table border=\"1\" class=\"dataframe\">\n",
              "  <thead>\n",
              "    <tr style=\"text-align: right;\">\n",
              "      <th></th>\n",
              "      <th>Mheight</th>\n",
              "      <th>Dheight</th>\n",
              "    </tr>\n",
              "  </thead>\n",
              "  <tbody>\n",
              "    <tr>\n",
              "      <th>0</th>\n",
              "      <td>59.7</td>\n",
              "      <td>55.1</td>\n",
              "    </tr>\n",
              "    <tr>\n",
              "      <th>1</th>\n",
              "      <td>58.2</td>\n",
              "      <td>56.5</td>\n",
              "    </tr>\n",
              "    <tr>\n",
              "      <th>2</th>\n",
              "      <td>60.6</td>\n",
              "      <td>56.0</td>\n",
              "    </tr>\n",
              "    <tr>\n",
              "      <th>3</th>\n",
              "      <td>60.7</td>\n",
              "      <td>56.8</td>\n",
              "    </tr>\n",
              "    <tr>\n",
              "      <th>4</th>\n",
              "      <td>61.8</td>\n",
              "      <td>56.0</td>\n",
              "    </tr>\n",
              "  </tbody>\n",
              "</table>\n",
              "</div>"
            ],
            "text/plain": [
              "   Mheight  Dheight\n",
              "0     59.7     55.1\n",
              "1     58.2     56.5\n",
              "2     60.6     56.0\n",
              "3     60.7     56.8\n",
              "4     61.8     56.0"
            ]
          },
          "metadata": {
            "tags": []
          },
          "execution_count": 11
        }
      ]
    },
    {
      "cell_type": "markdown",
      "metadata": {
        "id": "m3TeeEViX_4e"
      },
      "source": [
        "We can also display aspects of our data in different ways as well. For example, if we wanted to find the names of our columns, we can find those in our dataframe like so:"
      ]
    },
    {
      "cell_type": "code",
      "metadata": {
        "id": "vfsqBGyOX_4e",
        "outputId": "e6d417a4-54ab-49b2-ed0a-6685304f38e7"
      },
      "source": [
        "print(height_df.columns.values)"
      ],
      "execution_count": null,
      "outputs": [
        {
          "output_type": "stream",
          "text": [
            "['Mheight' 'Dheight']\n"
          ],
          "name": "stdout"
        }
      ]
    },
    {
      "cell_type": "markdown",
      "metadata": {
        "id": "ICU-6PSKX_4e"
      },
      "source": [
        "When we start getting into more complicated topics such as machine learning, understanding how big your data becomes extremely important as well. We can use this information by using '.shape'. This return a tuple with the first value representing the number of rows, and the second number representing the number of columns."
      ]
    },
    {
      "cell_type": "code",
      "metadata": {
        "id": "6NeE1GpkX_4e",
        "outputId": "d566e27e-5cbb-4130-e55d-0b21810154c6"
      },
      "source": [
        "height_df.shape"
      ],
      "execution_count": null,
      "outputs": [
        {
          "output_type": "execute_result",
          "data": {
            "text/plain": [
              "(1375, 2)"
            ]
          },
          "metadata": {
            "tags": []
          },
          "execution_count": 13
        }
      ]
    },
    {
      "cell_type": "markdown",
      "metadata": {
        "id": "UXb-A7EbX_4f"
      },
      "source": [
        "If we wanted to find out more about an individual row, we can do so by using the brackets like this. Notice how there's only one number because there is only 1 column"
      ]
    },
    {
      "cell_type": "code",
      "metadata": {
        "id": "Lv0Xq-J0X_4f",
        "outputId": "9280b5fc-ff99-4b01-db39-6139009b8d5d"
      },
      "source": [
        "height_df['Mheight'].shape"
      ],
      "execution_count": null,
      "outputs": [
        {
          "output_type": "execute_result",
          "data": {
            "text/plain": [
              "(1375,)"
            ]
          },
          "metadata": {
            "tags": []
          },
          "execution_count": 14
        }
      ]
    },
    {
      "cell_type": "markdown",
      "metadata": {
        "id": "q0Q_VOpFX_4f"
      },
      "source": [
        "Perhaps we wanted to find out how many items show up in each row. We can do so using value_counts"
      ]
    },
    {
      "cell_type": "code",
      "metadata": {
        "id": "YfnMLcdrX_4f",
        "outputId": "a5f1117d-3e52-48ec-c199-589407509bf2"
      },
      "source": [
        "height_df['Mheight'].value_counts()"
      ],
      "execution_count": null,
      "outputs": [
        {
          "output_type": "execute_result",
          "data": {
            "text/plain": [
              "63.9    31\n",
              "62.2    30\n",
              "62.1    28\n",
              "62.7    25\n",
              "61.9    25\n",
              "        ..\n",
              "56.1     1\n",
              "67.6     1\n",
              "69.1     1\n",
              "55.4     1\n",
              "55.5     1\n",
              "Name: Mheight, Length: 129, dtype: int64"
            ]
          },
          "metadata": {
            "tags": []
          },
          "execution_count": 15
        }
      ]
    },
    {
      "cell_type": "markdown",
      "metadata": {
        "id": "j-4KLWIbX_4g"
      },
      "source": [
        "Lets say that we wanted to find what kind of values are in the data without seeing all of them repeat. We can do so using the unique() function"
      ]
    },
    {
      "cell_type": "code",
      "metadata": {
        "id": "SPmrdX9cX_4g",
        "outputId": "8a2801b1-c527-47bb-e9ce-8a561c2b9e6c"
      },
      "source": [
        "height_df['Dheight'].unique()"
      ],
      "execution_count": null,
      "outputs": [
        {
          "output_type": "execute_result",
          "data": {
            "text/plain": [
              "array([55.1, 56.5, 56. , 56.8, 57.9, 57.1, 57.6, 57.2, 57.7, 57.5, 57.8,\n",
              "       58. , 58.7, 58.8, 58.6, 58.9, 58.3, 58.1, 59.6, 59.2, 59.9, 59.3,\n",
              "       59.4, 59.1, 59.8, 59.7, 59. , 59.5, 60.4, 60.6, 60.2, 60.9, 60.5,\n",
              "       60.3, 60. , 60.8, 60.7, 60.1, 61.2, 61.7, 61.4, 61.6, 61.8, 61.3,\n",
              "       61. , 61.1, 61.5, 61.9, 62.2, 62.1, 62.4, 62.6, 62.5, 62. , 62.7,\n",
              "       62.8, 62.3, 62.9, 63.3, 63.9, 63.4, 63.7, 63. , 63.6, 63.1, 63.8,\n",
              "       63.5, 63.2, 64.3, 64.9, 64.4, 64.1, 64.7, 64.8, 64.5, 64.2, 64.6,\n",
              "       64. , 65.5, 65.6, 65.8, 65.2, 65.4, 65.1, 65.9, 65.3, 65.7, 65. ,\n",
              "       66.9, 66.3, 66.7, 66.8, 66.5, 66.6, 66. , 66.1, 66.2, 66.4, 67.7,\n",
              "       67.6, 67.4, 67.3, 67.5, 67.9, 67.2, 67.8, 67. , 67.1, 68. , 68.1,\n",
              "       68.6, 68.8, 68.7, 68.4, 68.9, 68.3, 68.5, 69.7, 69.3, 69.4, 69.6,\n",
              "       69.9, 69.5, 69.8, 69.1, 69.2, 70.9, 70.5, 70. , 70.8, 70.4, 70.1,\n",
              "       71.6, 71.4, 71. , 73.1])"
            ]
          },
          "metadata": {
            "tags": []
          },
          "execution_count": 16
        }
      ]
    },
    {
      "cell_type": "markdown",
      "metadata": {
        "id": "axaDZG0zX_4g"
      },
      "source": [
        "Finally, lets look at the 5 number summary for the Mheight data"
      ]
    },
    {
      "cell_type": "code",
      "metadata": {
        "id": "RqLS2REAX_4g",
        "outputId": "77198913-de06-491b-af06-b02abbab5230"
      },
      "source": [
        "heightSum = height_df['Mheight'].quantile([0.0, 0.25,0.5,0.75, 1.0])\n",
        "heightSum"
      ],
      "execution_count": null,
      "outputs": [
        {
          "output_type": "execute_result",
          "data": {
            "text/plain": [
              "0.00    55.4\n",
              "0.25    60.8\n",
              "0.50    62.4\n",
              "0.75    63.9\n",
              "1.00    70.8\n",
              "Name: Mheight, dtype: float64"
            ]
          },
          "metadata": {
            "tags": []
          },
          "execution_count": 17
        }
      ]
    },
    {
      "cell_type": "markdown",
      "metadata": {
        "id": "EAV-C0d7X_4g"
      },
      "source": [
        "We can also pull a bunch of other usefull information out of the data as well"
      ]
    },
    {
      "cell_type": "code",
      "metadata": {
        "id": "UvFdsrUHX_4h",
        "outputId": "bce28698-6931-4210-fed4-7415e5d8410f"
      },
      "source": [
        "print(height_df['Mheight'].mean())\n",
        "print(height_df['Mheight'].std())"
      ],
      "execution_count": null,
      "outputs": [
        {
          "output_type": "stream",
          "text": [
            "62.4528\n",
            "2.3551032760896145\n"
          ],
          "name": "stdout"
        }
      ]
    },
    {
      "cell_type": "markdown",
      "metadata": {
        "id": "xUOHmawxX_4h"
      },
      "source": [
        "## Data Cleaning: Data Manipuation and Data Cleaning\n",
        "\n",
        "One thing you'll notice once we have our data is that there is a lot of 'NaN' (Not a Number) values in our data. This means that data doesn't exist for these collumns. You'll also notice that there are a lot of pretty useless rows that while may be useful for other purposes, we may not need for this workshop. We can remove or 'drop' this data in several ways\n",
        "\n",
        "We can explicitly drop the desired columns:"
      ]
    },
    {
      "cell_type": "code",
      "metadata": {
        "id": "pMyI1o3pX_4h"
      },
      "source": [
        "df = pd.read_csv('BL-Flickr-Images-Book.csv') # This line basically resets our dataframe so that we can see the drop happen\n",
        "to_drop = ['Edition Statement',\n",
        "            'Corporate Author',\n",
        "            'Corporate Contributors',\n",
        "            'Former owner',\n",
        "            'Engraver',\n",
        "            'Contributors',\n",
        "           'Issuance type',\n",
        "            'Shelfmarks'] # This creates a list of the columns that we want to drop\n",
        "\n",
        "df.drop(columns=to_drop, inplace=True)\n",
        "#This drops our columns, dropping the columns in 'df' that have the names in our 'to_drop list'\n",
        "#inplace = True signifies that we want to change the original variable 'df' instead of creating a new variable"
      ],
      "execution_count": null,
      "outputs": []
    },
    {
      "cell_type": "markdown",
      "metadata": {
        "id": "OqZdLG9CX_4h"
      },
      "source": [
        "We can also drop the 'NaN' values to make the data cleaner to work with:"
      ]
    },
    {
      "cell_type": "code",
      "metadata": {
        "id": "TNGtFRhGX_4i",
        "outputId": "92e933e7-ee30-4138-c655-06bbfcdce548"
      },
      "source": [
        "df = pd.read_csv('BL-Flickr-Images-Book.csv') # This line basically resets our dataframe so that we can see the drop happen\n",
        "df.dropna()"
      ],
      "execution_count": null,
      "outputs": [
        {
          "output_type": "execute_result",
          "data": {
            "text/html": [
              "<div>\n",
              "<style scoped>\n",
              "    .dataframe tbody tr th:only-of-type {\n",
              "        vertical-align: middle;\n",
              "    }\n",
              "\n",
              "    .dataframe tbody tr th {\n",
              "        vertical-align: top;\n",
              "    }\n",
              "\n",
              "    .dataframe thead th {\n",
              "        text-align: right;\n",
              "    }\n",
              "</style>\n",
              "<table border=\"1\" class=\"dataframe\">\n",
              "  <thead>\n",
              "    <tr style=\"text-align: right;\">\n",
              "      <th></th>\n",
              "      <th>Identifier</th>\n",
              "      <th>Edition Statement</th>\n",
              "      <th>Place of Publication</th>\n",
              "      <th>Date of Publication</th>\n",
              "      <th>Publisher</th>\n",
              "      <th>Title</th>\n",
              "      <th>Author</th>\n",
              "      <th>Contributors</th>\n",
              "      <th>Corporate Author</th>\n",
              "      <th>Corporate Contributors</th>\n",
              "      <th>Former owner</th>\n",
              "      <th>Engraver</th>\n",
              "      <th>Issuance type</th>\n",
              "      <th>Flickr URL</th>\n",
              "      <th>Shelfmarks</th>\n",
              "    </tr>\n",
              "  </thead>\n",
              "  <tbody>\n",
              "  </tbody>\n",
              "</table>\n",
              "</div>"
            ],
            "text/plain": [
              "Empty DataFrame\n",
              "Columns: [Identifier, Edition Statement, Place of Publication, Date of Publication, Publisher, Title, Author, Contributors, Corporate Author, Corporate Contributors, Former owner, Engraver, Issuance type, Flickr URL, Shelfmarks]\n",
              "Index: []"
            ]
          },
          "metadata": {
            "tags": []
          },
          "execution_count": 20
        }
      ]
    },
    {
      "cell_type": "markdown",
      "metadata": {
        "id": "AKR0IpTnX_4i"
      },
      "source": [
        ".dropna() drops every single row with an 'NaN' value, which in this case happens to be all of them. Oops, lets reset that."
      ]
    },
    {
      "cell_type": "code",
      "metadata": {
        "id": "qfajiLsEX_4i",
        "outputId": "88170026-4a53-4b6a-ebce-2e069a6db210"
      },
      "source": [
        "df = pd.read_csv('BL-Flickr-Images-Book.csv') # This line basically resets our dataframe so that we can see the drop happen\n",
        "df"
      ],
      "execution_count": null,
      "outputs": [
        {
          "output_type": "execute_result",
          "data": {
            "text/html": [
              "<div>\n",
              "<style scoped>\n",
              "    .dataframe tbody tr th:only-of-type {\n",
              "        vertical-align: middle;\n",
              "    }\n",
              "\n",
              "    .dataframe tbody tr th {\n",
              "        vertical-align: top;\n",
              "    }\n",
              "\n",
              "    .dataframe thead th {\n",
              "        text-align: right;\n",
              "    }\n",
              "</style>\n",
              "<table border=\"1\" class=\"dataframe\">\n",
              "  <thead>\n",
              "    <tr style=\"text-align: right;\">\n",
              "      <th></th>\n",
              "      <th>Identifier</th>\n",
              "      <th>Edition Statement</th>\n",
              "      <th>Place of Publication</th>\n",
              "      <th>Date of Publication</th>\n",
              "      <th>Publisher</th>\n",
              "      <th>Title</th>\n",
              "      <th>Author</th>\n",
              "      <th>Contributors</th>\n",
              "      <th>Corporate Author</th>\n",
              "      <th>Corporate Contributors</th>\n",
              "      <th>Former owner</th>\n",
              "      <th>Engraver</th>\n",
              "      <th>Issuance type</th>\n",
              "      <th>Flickr URL</th>\n",
              "      <th>Shelfmarks</th>\n",
              "    </tr>\n",
              "  </thead>\n",
              "  <tbody>\n",
              "    <tr>\n",
              "      <th>0</th>\n",
              "      <td>206</td>\n",
              "      <td>NaN</td>\n",
              "      <td>London</td>\n",
              "      <td>1879 [1878]</td>\n",
              "      <td>S. Tinsley &amp; Co.</td>\n",
              "      <td>Walter Forbes. [A novel.] By A. A</td>\n",
              "      <td>A. A.</td>\n",
              "      <td>FORBES, Walter.</td>\n",
              "      <td>NaN</td>\n",
              "      <td>NaN</td>\n",
              "      <td>NaN</td>\n",
              "      <td>NaN</td>\n",
              "      <td>monographic</td>\n",
              "      <td>http://www.flickr.com/photos/britishlibrary/ta...</td>\n",
              "      <td>British Library HMNTS 12641.b.30.</td>\n",
              "    </tr>\n",
              "    <tr>\n",
              "      <th>1</th>\n",
              "      <td>216</td>\n",
              "      <td>NaN</td>\n",
              "      <td>London; Virtue &amp; Yorston</td>\n",
              "      <td>1868</td>\n",
              "      <td>Virtue &amp; Co.</td>\n",
              "      <td>All for Greed. [A novel. The dedication signed...</td>\n",
              "      <td>A., A. A.</td>\n",
              "      <td>BLAZE DE BURY, Marie Pauline Rose - Baroness</td>\n",
              "      <td>NaN</td>\n",
              "      <td>NaN</td>\n",
              "      <td>NaN</td>\n",
              "      <td>NaN</td>\n",
              "      <td>monographic</td>\n",
              "      <td>http://www.flickr.com/photos/britishlibrary/ta...</td>\n",
              "      <td>British Library HMNTS 12626.cc.2.</td>\n",
              "    </tr>\n",
              "    <tr>\n",
              "      <th>2</th>\n",
              "      <td>218</td>\n",
              "      <td>NaN</td>\n",
              "      <td>London</td>\n",
              "      <td>1869</td>\n",
              "      <td>Bradbury, Evans &amp; Co.</td>\n",
              "      <td>Love the Avenger. By the author of “All for Gr...</td>\n",
              "      <td>A., A. A.</td>\n",
              "      <td>BLAZE DE BURY, Marie Pauline Rose - Baroness</td>\n",
              "      <td>NaN</td>\n",
              "      <td>NaN</td>\n",
              "      <td>NaN</td>\n",
              "      <td>NaN</td>\n",
              "      <td>monographic</td>\n",
              "      <td>http://www.flickr.com/photos/britishlibrary/ta...</td>\n",
              "      <td>British Library HMNTS 12625.dd.1.</td>\n",
              "    </tr>\n",
              "    <tr>\n",
              "      <th>3</th>\n",
              "      <td>472</td>\n",
              "      <td>NaN</td>\n",
              "      <td>London</td>\n",
              "      <td>1851</td>\n",
              "      <td>James Darling</td>\n",
              "      <td>Welsh Sketches, chiefly ecclesiastical, to the...</td>\n",
              "      <td>A., E. S.</td>\n",
              "      <td>Appleyard, Ernest Silvanus.</td>\n",
              "      <td>NaN</td>\n",
              "      <td>NaN</td>\n",
              "      <td>NaN</td>\n",
              "      <td>NaN</td>\n",
              "      <td>monographic</td>\n",
              "      <td>http://www.flickr.com/photos/britishlibrary/ta...</td>\n",
              "      <td>British Library HMNTS 10369.bbb.15.</td>\n",
              "    </tr>\n",
              "    <tr>\n",
              "      <th>4</th>\n",
              "      <td>480</td>\n",
              "      <td>A new edition, revised, etc.</td>\n",
              "      <td>London</td>\n",
              "      <td>1857</td>\n",
              "      <td>Wertheim &amp; Macintosh</td>\n",
              "      <td>[The World in which I live, and my place in it...</td>\n",
              "      <td>A., E. S.</td>\n",
              "      <td>BROOME, John Henry.</td>\n",
              "      <td>NaN</td>\n",
              "      <td>NaN</td>\n",
              "      <td>NaN</td>\n",
              "      <td>NaN</td>\n",
              "      <td>monographic</td>\n",
              "      <td>http://www.flickr.com/photos/britishlibrary/ta...</td>\n",
              "      <td>British Library HMNTS 9007.d.28.</td>\n",
              "    </tr>\n",
              "    <tr>\n",
              "      <th>...</th>\n",
              "      <td>...</td>\n",
              "      <td>...</td>\n",
              "      <td>...</td>\n",
              "      <td>...</td>\n",
              "      <td>...</td>\n",
              "      <td>...</td>\n",
              "      <td>...</td>\n",
              "      <td>...</td>\n",
              "      <td>...</td>\n",
              "      <td>...</td>\n",
              "      <td>...</td>\n",
              "      <td>...</td>\n",
              "      <td>...</td>\n",
              "      <td>...</td>\n",
              "      <td>...</td>\n",
              "    </tr>\n",
              "    <tr>\n",
              "      <th>8282</th>\n",
              "      <td>4158088</td>\n",
              "      <td>NaN</td>\n",
              "      <td>London</td>\n",
              "      <td>1838</td>\n",
              "      <td>NaN</td>\n",
              "      <td>The Parochial History of Cornwall, founded on,...</td>\n",
              "      <td>GIDDY, afterwards GILBERT, Davies.</td>\n",
              "      <td>BOASE, Henry Samuel.|HALS, William.|LYSONS, Da...</td>\n",
              "      <td>NaN</td>\n",
              "      <td>NaN</td>\n",
              "      <td>NaN</td>\n",
              "      <td>NaN</td>\n",
              "      <td>monographic</td>\n",
              "      <td>http://www.flickr.com/photos/britishlibrary/ta...</td>\n",
              "      <td>British Library HMNTS|British Library HMNTS 10...</td>\n",
              "    </tr>\n",
              "    <tr>\n",
              "      <th>8283</th>\n",
              "      <td>4158128</td>\n",
              "      <td>NaN</td>\n",
              "      <td>Derby</td>\n",
              "      <td>1831, 32</td>\n",
              "      <td>M. Mozley &amp; Son</td>\n",
              "      <td>The History and Gazetteer of the County of Der...</td>\n",
              "      <td>GLOVER, Stephen - of Derby</td>\n",
              "      <td>NOBLE, Thomas.</td>\n",
              "      <td>NaN</td>\n",
              "      <td>NaN</td>\n",
              "      <td>NaN</td>\n",
              "      <td>NaN</td>\n",
              "      <td>monographic</td>\n",
              "      <td>http://www.flickr.com/photos/britishlibrary/ta...</td>\n",
              "      <td>British Library HMNTS|British Library HMNTS 10...</td>\n",
              "    </tr>\n",
              "    <tr>\n",
              "      <th>8284</th>\n",
              "      <td>4159563</td>\n",
              "      <td>NaN</td>\n",
              "      <td>London</td>\n",
              "      <td>[1806]-22</td>\n",
              "      <td>T. Cadell and W. Davies</td>\n",
              "      <td>Magna Britannia; being a concise topographical...</td>\n",
              "      <td>LYSONS, Daniel - M.A., F.R.S., and LYSONS (Sam...</td>\n",
              "      <td>GREGSON, Matthew.|LYSONS, Samuel - F.R.S</td>\n",
              "      <td>NaN</td>\n",
              "      <td>NaN</td>\n",
              "      <td>NaN</td>\n",
              "      <td>NaN</td>\n",
              "      <td>monographic</td>\n",
              "      <td>http://www.flickr.com/photos/britishlibrary/ta...</td>\n",
              "      <td>British Library HMNTS|British Library HMNTS 19...</td>\n",
              "    </tr>\n",
              "    <tr>\n",
              "      <th>8285</th>\n",
              "      <td>4159587</td>\n",
              "      <td>NaN</td>\n",
              "      <td>Newcastle upon Tyne</td>\n",
              "      <td>1834</td>\n",
              "      <td>Mackenzie &amp; Dent</td>\n",
              "      <td>An historical, topographical and descriptive v...</td>\n",
              "      <td>Mackenzie, E. (Eneas)</td>\n",
              "      <td>ROSS, M. - of Durham</td>\n",
              "      <td>NaN</td>\n",
              "      <td>NaN</td>\n",
              "      <td>NaN</td>\n",
              "      <td>NaN</td>\n",
              "      <td>monographic</td>\n",
              "      <td>http://www.flickr.com/photos/britishlibrary/ta...</td>\n",
              "      <td>British Library HMNTS|British Library HMNTS 10...</td>\n",
              "    </tr>\n",
              "    <tr>\n",
              "      <th>8286</th>\n",
              "      <td>4160339</td>\n",
              "      <td>NaN</td>\n",
              "      <td>London</td>\n",
              "      <td>1834-43</td>\n",
              "      <td>NaN</td>\n",
              "      <td>Collectanea Topographica et Genealogica. [Firs...</td>\n",
              "      <td>NaN</td>\n",
              "      <td>BANDINEL, Bulkeley.|Nichols, John Gough</td>\n",
              "      <td>NaN</td>\n",
              "      <td>NaN</td>\n",
              "      <td>NaN</td>\n",
              "      <td>NaN</td>\n",
              "      <td>continuing</td>\n",
              "      <td>http://www.flickr.com/photos/britishlibrary/ta...</td>\n",
              "      <td>British Library HMNTS|British Library HMNTS 79...</td>\n",
              "    </tr>\n",
              "  </tbody>\n",
              "</table>\n",
              "<p>8287 rows × 15 columns</p>\n",
              "</div>"
            ],
            "text/plain": [
              "      Identifier             Edition Statement      Place of Publication  \\\n",
              "0            206                           NaN                    London   \n",
              "1            216                           NaN  London; Virtue & Yorston   \n",
              "2            218                           NaN                    London   \n",
              "3            472                           NaN                    London   \n",
              "4            480  A new edition, revised, etc.                    London   \n",
              "...          ...                           ...                       ...   \n",
              "8282     4158088                           NaN                    London   \n",
              "8283     4158128                           NaN                     Derby   \n",
              "8284     4159563                           NaN                    London   \n",
              "8285     4159587                           NaN       Newcastle upon Tyne   \n",
              "8286     4160339                           NaN                    London   \n",
              "\n",
              "     Date of Publication                Publisher  \\\n",
              "0            1879 [1878]         S. Tinsley & Co.   \n",
              "1                   1868             Virtue & Co.   \n",
              "2                   1869    Bradbury, Evans & Co.   \n",
              "3                   1851            James Darling   \n",
              "4                   1857     Wertheim & Macintosh   \n",
              "...                  ...                      ...   \n",
              "8282                1838                      NaN   \n",
              "8283            1831, 32          M. Mozley & Son   \n",
              "8284           [1806]-22  T. Cadell and W. Davies   \n",
              "8285                1834         Mackenzie & Dent   \n",
              "8286             1834-43                      NaN   \n",
              "\n",
              "                                                  Title  \\\n",
              "0                     Walter Forbes. [A novel.] By A. A   \n",
              "1     All for Greed. [A novel. The dedication signed...   \n",
              "2     Love the Avenger. By the author of “All for Gr...   \n",
              "3     Welsh Sketches, chiefly ecclesiastical, to the...   \n",
              "4     [The World in which I live, and my place in it...   \n",
              "...                                                 ...   \n",
              "8282  The Parochial History of Cornwall, founded on,...   \n",
              "8283  The History and Gazetteer of the County of Der...   \n",
              "8284  Magna Britannia; being a concise topographical...   \n",
              "8285  An historical, topographical and descriptive v...   \n",
              "8286  Collectanea Topographica et Genealogica. [Firs...   \n",
              "\n",
              "                                                 Author  \\\n",
              "0                                                 A. A.   \n",
              "1                                             A., A. A.   \n",
              "2                                             A., A. A.   \n",
              "3                                             A., E. S.   \n",
              "4                                             A., E. S.   \n",
              "...                                                 ...   \n",
              "8282                 GIDDY, afterwards GILBERT, Davies.   \n",
              "8283                         GLOVER, Stephen - of Derby   \n",
              "8284  LYSONS, Daniel - M.A., F.R.S., and LYSONS (Sam...   \n",
              "8285                              Mackenzie, E. (Eneas)   \n",
              "8286                                                NaN   \n",
              "\n",
              "                                           Contributors  Corporate Author  \\\n",
              "0                                       FORBES, Walter.               NaN   \n",
              "1          BLAZE DE BURY, Marie Pauline Rose - Baroness               NaN   \n",
              "2          BLAZE DE BURY, Marie Pauline Rose - Baroness               NaN   \n",
              "3                           Appleyard, Ernest Silvanus.               NaN   \n",
              "4                                   BROOME, John Henry.               NaN   \n",
              "...                                                 ...               ...   \n",
              "8282  BOASE, Henry Samuel.|HALS, William.|LYSONS, Da...               NaN   \n",
              "8283                                     NOBLE, Thomas.               NaN   \n",
              "8284           GREGSON, Matthew.|LYSONS, Samuel - F.R.S               NaN   \n",
              "8285                               ROSS, M. - of Durham               NaN   \n",
              "8286            BANDINEL, Bulkeley.|Nichols, John Gough               NaN   \n",
              "\n",
              "      Corporate Contributors Former owner  Engraver Issuance type  \\\n",
              "0                        NaN          NaN       NaN   monographic   \n",
              "1                        NaN          NaN       NaN   monographic   \n",
              "2                        NaN          NaN       NaN   monographic   \n",
              "3                        NaN          NaN       NaN   monographic   \n",
              "4                        NaN          NaN       NaN   monographic   \n",
              "...                      ...          ...       ...           ...   \n",
              "8282                     NaN          NaN       NaN   monographic   \n",
              "8283                     NaN          NaN       NaN   monographic   \n",
              "8284                     NaN          NaN       NaN   monographic   \n",
              "8285                     NaN          NaN       NaN   monographic   \n",
              "8286                     NaN          NaN       NaN    continuing   \n",
              "\n",
              "                                             Flickr URL  \\\n",
              "0     http://www.flickr.com/photos/britishlibrary/ta...   \n",
              "1     http://www.flickr.com/photos/britishlibrary/ta...   \n",
              "2     http://www.flickr.com/photos/britishlibrary/ta...   \n",
              "3     http://www.flickr.com/photos/britishlibrary/ta...   \n",
              "4     http://www.flickr.com/photos/britishlibrary/ta...   \n",
              "...                                                 ...   \n",
              "8282  http://www.flickr.com/photos/britishlibrary/ta...   \n",
              "8283  http://www.flickr.com/photos/britishlibrary/ta...   \n",
              "8284  http://www.flickr.com/photos/britishlibrary/ta...   \n",
              "8285  http://www.flickr.com/photos/britishlibrary/ta...   \n",
              "8286  http://www.flickr.com/photos/britishlibrary/ta...   \n",
              "\n",
              "                                             Shelfmarks  \n",
              "0                     British Library HMNTS 12641.b.30.  \n",
              "1                     British Library HMNTS 12626.cc.2.  \n",
              "2                     British Library HMNTS 12625.dd.1.  \n",
              "3                   British Library HMNTS 10369.bbb.15.  \n",
              "4                      British Library HMNTS 9007.d.28.  \n",
              "...                                                 ...  \n",
              "8282  British Library HMNTS|British Library HMNTS 10...  \n",
              "8283  British Library HMNTS|British Library HMNTS 10...  \n",
              "8284  British Library HMNTS|British Library HMNTS 19...  \n",
              "8285  British Library HMNTS|British Library HMNTS 10...  \n",
              "8286  British Library HMNTS|British Library HMNTS 79...  \n",
              "\n",
              "[8287 rows x 15 columns]"
            ]
          },
          "metadata": {
            "tags": []
          },
          "execution_count": 21
        }
      ]
    },
    {
      "cell_type": "markdown",
      "metadata": {
        "id": "QdQ5DWz2X_4i"
      },
      "source": [
        "## I can show you the world: Data Visualization in Python\n",
        "\n",
        "Data visualization is one of the most important aspects of doing data science and quantitative finance. In order to do data visualization, we first have to add the right tools to our toolbelt. There are many tools that can be used to visualize data, some better than others. For this workshop we are going to be using matplotlib.pyplot, and calling it plt for short. We're also going to be using a different data set, the 'heights.txt' dataset for this part."
      ]
    },
    {
      "cell_type": "code",
      "metadata": {
        "id": "CfF-NOyJX_4i",
        "outputId": "c37f44fa-44b5-4317-9959-040fdff45da1"
      },
      "source": [
        "import matplotlib.pyplot as plt\n",
        "height_df"
      ],
      "execution_count": null,
      "outputs": [
        {
          "output_type": "execute_result",
          "data": {
            "text/html": [
              "<div>\n",
              "<style scoped>\n",
              "    .dataframe tbody tr th:only-of-type {\n",
              "        vertical-align: middle;\n",
              "    }\n",
              "\n",
              "    .dataframe tbody tr th {\n",
              "        vertical-align: top;\n",
              "    }\n",
              "\n",
              "    .dataframe thead th {\n",
              "        text-align: right;\n",
              "    }\n",
              "</style>\n",
              "<table border=\"1\" class=\"dataframe\">\n",
              "  <thead>\n",
              "    <tr style=\"text-align: right;\">\n",
              "      <th></th>\n",
              "      <th>Mheight</th>\n",
              "      <th>Dheight</th>\n",
              "    </tr>\n",
              "  </thead>\n",
              "  <tbody>\n",
              "    <tr>\n",
              "      <th>0</th>\n",
              "      <td>59.7</td>\n",
              "      <td>55.1</td>\n",
              "    </tr>\n",
              "    <tr>\n",
              "      <th>1</th>\n",
              "      <td>58.2</td>\n",
              "      <td>56.5</td>\n",
              "    </tr>\n",
              "    <tr>\n",
              "      <th>2</th>\n",
              "      <td>60.6</td>\n",
              "      <td>56.0</td>\n",
              "    </tr>\n",
              "    <tr>\n",
              "      <th>3</th>\n",
              "      <td>60.7</td>\n",
              "      <td>56.8</td>\n",
              "    </tr>\n",
              "    <tr>\n",
              "      <th>4</th>\n",
              "      <td>61.8</td>\n",
              "      <td>56.0</td>\n",
              "    </tr>\n",
              "    <tr>\n",
              "      <th>...</th>\n",
              "      <td>...</td>\n",
              "      <td>...</td>\n",
              "    </tr>\n",
              "    <tr>\n",
              "      <th>1370</th>\n",
              "      <td>69.1</td>\n",
              "      <td>70.1</td>\n",
              "    </tr>\n",
              "    <tr>\n",
              "      <th>1371</th>\n",
              "      <td>65.0</td>\n",
              "      <td>71.6</td>\n",
              "    </tr>\n",
              "    <tr>\n",
              "      <th>1372</th>\n",
              "      <td>66.3</td>\n",
              "      <td>71.4</td>\n",
              "    </tr>\n",
              "    <tr>\n",
              "      <th>1373</th>\n",
              "      <td>70.8</td>\n",
              "      <td>71.0</td>\n",
              "    </tr>\n",
              "    <tr>\n",
              "      <th>1374</th>\n",
              "      <td>63.0</td>\n",
              "      <td>73.1</td>\n",
              "    </tr>\n",
              "  </tbody>\n",
              "</table>\n",
              "<p>1375 rows × 2 columns</p>\n",
              "</div>"
            ],
            "text/plain": [
              "      Mheight  Dheight\n",
              "0        59.7     55.1\n",
              "1        58.2     56.5\n",
              "2        60.6     56.0\n",
              "3        60.7     56.8\n",
              "4        61.8     56.0\n",
              "...       ...      ...\n",
              "1370     69.1     70.1\n",
              "1371     65.0     71.6\n",
              "1372     66.3     71.4\n",
              "1373     70.8     71.0\n",
              "1374     63.0     73.1\n",
              "\n",
              "[1375 rows x 2 columns]"
            ]
          },
          "metadata": {
            "tags": []
          },
          "execution_count": 22
        }
      ]
    },
    {
      "cell_type": "markdown",
      "metadata": {
        "id": "KPibwG2mX_4j"
      },
      "source": [
        "We can visualize this data in several different ways. Two of the most common are histograms, boxplots, and scatterplots and can be done as shown:"
      ]
    },
    {
      "cell_type": "code",
      "metadata": {
        "id": "ztPn-ANqX_4j",
        "outputId": "26180449-dcac-40b9-a7e3-e8cab91ee703"
      },
      "source": [
        "#Boxplots represent the number of occurrences in the data, for example, there were a little under 350 Mothers with a height of 63\n",
        "height_df.hist()\n",
        "#plt.show()"
      ],
      "execution_count": null,
      "outputs": [
        {
          "output_type": "execute_result",
          "data": {
            "text/plain": [
              "array([[<matplotlib.axes._subplots.AxesSubplot object at 0x0000022A927663D0>,\n",
              "        <matplotlib.axes._subplots.AxesSubplot object at 0x0000022A927B2880>]],\n",
              "      dtype=object)"
            ]
          },
          "metadata": {
            "tags": []
          },
          "execution_count": 23
        },
        {
          "output_type": "display_data",
          "data": {
            "image/png": "[encoded data removed]",
            "text/plain": [
              "<Figure size 432x288 with 2 Axes>"
            ]
          },
          "metadata": {
            "tags": [],
            "needs_background": "light"
          }
        }
      ]
    },
    {
      "cell_type": "code",
      "metadata": {
        "id": "yvN6d0EdX_4j",
        "outputId": "354591f7-f629-4df4-a9e3-32dd70c7cb97"
      },
      "source": [
        "#Scatterplots can help visualize the points in the sample, the X axis is Mother hight and the Y axis is the daughter height\n",
        "height_df.plot.scatter(x='Mheight', y='Dheight')"
      ],
      "execution_count": null,
      "outputs": [
        {
          "output_type": "execute_result",
          "data": {
            "text/plain": [
              "<matplotlib.axes._subplots.AxesSubplot at 0x22a9286b6a0>"
            ]
          },
          "metadata": {
            "tags": []
          },
          "execution_count": 24
        },
        {
          "output_type": "display_data",
          "data": {
            "image/png": "[encoded data removed]",
            "text/plain": [
              "<Figure size 432x288 with 1 Axes>"
            ]
          },
          "metadata": {
            "tags": [],
            "needs_background": "light"
          }
        }
      ]
    },
    {
      "cell_type": "code",
      "metadata": {
        "id": "O877eekSX_4j",
        "outputId": "b3d7506b-3f4f-4757-ffbf-46867b865254"
      },
      "source": [
        "plt.boxplot(height_df['Mheight'])"
      ],
      "execution_count": null,
      "outputs": [
        {
          "output_type": "execute_result",
          "data": {
            "text/plain": [
              "{'whiskers': [<matplotlib.lines.Line2D at 0x22a929547f0>,\n",
              "  <matplotlib.lines.Line2D at 0x22a92954b50>],\n",
              " 'caps': [<matplotlib.lines.Line2D at 0x22a92954eb0>,\n",
              "  <matplotlib.lines.Line2D at 0x22a92966250>],\n",
              " 'boxes': [<matplotlib.lines.Line2D at 0x22a92954490>],\n",
              " 'medians': [<matplotlib.lines.Line2D at 0x22a929665b0>],\n",
              " 'fliers': [<matplotlib.lines.Line2D at 0x22a929668b0>],\n",
              " 'means': []}"
            ]
          },
          "metadata": {
            "tags": []
          },
          "execution_count": 25
        },
        {
          "output_type": "display_data",
          "data": {
            "image/png": "[encoded data removed]",
            "text/plain": [
              "<Figure size 432x288 with 1 Axes>"
            ]
          },
          "metadata": {
            "tags": [],
            "needs_background": "light"
          }
        }
      ]
    },
    {
      "cell_type": "markdown",
      "metadata": {
        "id": "dzDYwyV8X_4k"
      },
      "source": [
        "Compare this with the 5 number summary, and see the way that it matches up perfectly"
      ]
    },
    {
      "cell_type": "code",
      "metadata": {
        "id": "1Axffh_8X_4k",
        "outputId": "e948da3b-3233-4b4b-c6e9-aae634109ea4"
      },
      "source": [
        "heightSum"
      ],
      "execution_count": null,
      "outputs": [
        {
          "output_type": "execute_result",
          "data": {
            "text/plain": [
              "0.00    55.4\n",
              "0.25    60.8\n",
              "0.50    62.4\n",
              "0.75    63.9\n",
              "1.00    70.8\n",
              "Name: Mheight, dtype: float64"
            ]
          },
          "metadata": {
            "tags": []
          },
          "execution_count": 26
        }
      ]
    },
    {
      "cell_type": "markdown",
      "metadata": {
        "id": "vbDRqkY1X_4k"
      },
      "source": [
        "## Hypothesis Testing in Python\n",
        "\n",
        "Hypothesis testing is arguably the most important and foundational part of statistics. This next section is going to be a bunch of math, but while you take the time to learn it, Python will end up doing most of the heavy lifting for you! There are many more tests than just these, but these are the most basic to know. Most of the basic hypotheses tests will be done using scipy.stats."
      ]
    },
    {
      "cell_type": "code",
      "metadata": {
        "id": "BJwGW9CLX_4k"
      },
      "source": [
        "import scipy.stats as st"
      ],
      "execution_count": null,
      "outputs": []
    },
    {
      "cell_type": "markdown",
      "metadata": {
        "id": "kmA4DJWfX_4k"
      },
      "source": [
        "### Creating a hypothesis\n",
        "The first step in testing a hypothesis is to create one. In statistics, we have two hypotheses, the null hypothesis and the alternative hypothesis, namely\n",
        "\n",
        "$\n",
        "H_0 : Null \\ Hypothesis:  \\ What \\ is \\ generally \\ accepted \\\\\n",
        "H_1 : Alternative \\ Hypothesis: \\ What \\ we \\ are \\ trying \\ to \\ prove \\\\\n",
        "$\n",
        "\n",
        "Generally, the null hypothesis holds unless the can successfully reject the null hypothesis. In the case that we do not reject the null hypothesis it is important that we do not accept the null hypothesis. This distinction is important because us not proving that our alternative hypothesis holds at a given signficance level does not prove the strength of the alternative\n",
        "\n",
        "### What does a hypothesis test do\n",
        "Essentially, hypothesis testing is a tool in inferential statistics for determining what the value of a population parameter based on a sample. Statisticians take a very pessimistic view, and require a certain statistical significance of deviation from the norm within the sample in order to reject the null hypothesis. This statistical significance is called alpha, $\\alpha$. This $\\alpha$ differs from quantitative finance alpha, as statistical alpha represents the significance level of a hypothesis test, while the quantitative finance alpha measures excess portfolio returns. It's unfortunate that they use the same variable since they are both so important to quantitative traders, but it is what it is.\n",
        "\n",
        "\n",
        "The hypotheses tests return two things. The first is the z/t score, which signifies a "
      ]
    },
    {
      "cell_type": "markdown",
      "metadata": {
        "id": "xC1L8_feX_4l"
      },
      "source": [
        "### One Sample Hypothesis Tests\n",
        "The most basic of hypotheses tests are the one sample z test and the one sample t test. This is generally used when we want to compare the outcome of a sample to a given population. For example if we wanted to compare the mean height of women to a sample of women's heights. Generally the difference between one sample z tests and t tests is that z-tests deal with sample sizes greater than 30 and t-tests are more applicable to samples of size less than 30.\n",
        "\n",
        "The one sample z test is given by the equation:\n",
        "\n",
        "$$\n",
        " z = {{\\bar{x} - \\mu} \\over \\sigma / \\sqrt n}\n",
        "$$\n",
        "where\n",
        "$\n",
        "\\bar{x} : the \\ mean \\ of \\ the \\ sample \\\\\n",
        "\\mu : the \\ mean \\ of \\ the \\ population \\\\\n",
        "\\sigma : The \\ standard \\ deviation \\ of \\ the \\ population\\\\\n",
        "n : the \\ sample \\ size \\\\\n",
        "$\n",
        "The one sample t test is given by the equation:\n",
        "$$\n",
        " t = {{\\bar{x} - \\mu} \\over s / \\sqrt n}\n",
        "$$\n",
        "$\n",
        "\\bar{x} : the \\ mean \\ of \\ the \\ sample \\\\\n",
        "\\mu : the \\ mean \\ of \\ the \\ population \\\\\n",
        "\\sigma : The \\ standard \\ deviation \\ of \\ the \\ sample\\\\\n",
        "n : the \\ sample \\ size\n",
        "$\n"
      ]
    },
    {
      "cell_type": "markdown",
      "metadata": {
        "id": "q_fNpB5bX_4l"
      },
      "source": [
        "When doing this in python, it becomes a lot easier. Lets say that we wanted to do a one sample proportion z-test, we would do it like so:"
      ]
    },
    {
      "cell_type": "code",
      "metadata": {
        "id": "O-ZW0DXeX_4l",
        "outputId": "76bce1f4-bd7e-462c-a92f-3c9191498409"
      },
      "source": [
        "import statsmodels.api as sm\n",
        "\n",
        "n = 1018\n",
        "mu = .52\n",
        "xbar = .56\n",
        "\n",
        "t, p = sm.stats.proportions_ztest(xbar * n, n, mu, alternative='larger')\n",
        "print(\"The t statistic is:\" , t)\n",
        "print(\"The p value is: \", p)\n",
        "#>> (2.571067795759113, 0.005069273865860533)"
      ],
      "execution_count": null,
      "outputs": [
        {
          "output_type": "stream",
          "text": [
            "The t statistic is: 2.571067795759113\n",
            "The p value is:  0.005069273865860533\n"
          ],
          "name": "stdout"
        }
      ]
    },
    {
      "cell_type": "markdown",
      "metadata": {
        "id": "leKOY-ntX_4m"
      },
      "source": [
        "If we wanted to do a one sample t-test, we would do it like so"
      ]
    },
    {
      "cell_type": "code",
      "metadata": {
        "id": "A-uvXVadX_4m",
        "outputId": "03e31037-ff12-4784-cac9-fc264be2ed4a"
      },
      "source": [
        "sample = height_df['Mheight']\n",
        "popmean = 60 #Some number that represents the null hypothesis' population mean\n",
        "\n",
        "st.ttest_1samp(sample, popmean = popmean)"
      ],
      "execution_count": null,
      "outputs": [
        {
          "output_type": "execute_result",
          "data": {
            "text/plain": [
              "Ttest_1sampResult(statistic=38.61922284646361, pvalue=1.5148291124750557e-221)"
            ]
          },
          "metadata": {
            "tags": []
          },
          "execution_count": 36
        }
      ]
    },
    {
      "cell_type": "markdown",
      "metadata": {
        "id": "VRDrTk0qX_4m"
      },
      "source": [
        "### Two Sample Hypotheses Tests\n",
        "In addition to 1 sample tests, there are also 2 sample tests. These tests are usually called 'difference in means' tests, and measure how similar two samples are. For these tests, the null and alternative hypotheses are as follows:\n",
        "\n",
        "$\n",
        "H_0: \\mu_1 = \\mu_2 \\\\\n",
        "\\\\\n",
        "H_1: \\mu_1 \\neq \\mu_2 \\\\ \\\\\n",
        "$\n",
        "And here are the equations for each difference in means test"
      ]
    },
    {
      "cell_type": "markdown",
      "metadata": {
        "id": "ppNJwXiYX_4m"
      },
      "source": [
        "![image-2.png](attachment:image-2.png)\n",
        "While these equations may look intimidating, python makes hypothesis testing extremely easy as well!"
      ]
    },
    {
      "cell_type": "markdown",
      "metadata": {
        "id": "U0ognS7NX_4m"
      },
      "source": [
        "Two sample Z test"
      ]
    },
    {
      "cell_type": "code",
      "metadata": {
        "id": "YQ5oGelfX_4n",
        "outputId": "9817c643-40b3-4963-917d-0556c9f92db1"
      },
      "source": [
        "import statsmodels.stats as sm\n",
        "sm.weightstats.ztest(height_df['Mheight'],  height_df['Dheight'])"
      ],
      "execution_count": null,
      "outputs": [
        {
          "output_type": "execute_result",
          "data": {
            "text/plain": [
              "(-13.722678632777303, 7.426998142838605e-43)"
            ]
          },
          "metadata": {
            "tags": []
          },
          "execution_count": 35
        }
      ]
    },
    {
      "cell_type": "markdown",
      "metadata": {
        "id": "s4BuhHdpX_4n"
      },
      "source": [
        "Two sample t test"
      ]
    },
    {
      "cell_type": "code",
      "metadata": {
        "id": "2KIbJQhFX_4n",
        "outputId": "2dc5942c-e834-45a0-a2c2-ec36d26bf4da"
      },
      "source": [
        "st.ttest_ind(height_df['Mheight'], height_df['Dheight'])"
      ],
      "execution_count": null,
      "outputs": [
        {
          "output_type": "execute_result",
          "data": {
            "text/plain": [
              "Ttest_indResult(statistic=-13.722678632777303, pvalue=1.6801967841194503e-41)"
            ]
          },
          "metadata": {
            "tags": []
          },
          "execution_count": 21
        }
      ]
    },
    {
      "cell_type": "markdown",
      "metadata": {
        "id": "gb_Tiej1X_4n"
      },
      "source": [
        "# Confidence Intervals\n",
        "\n",
        "Confidence intervals are serve the important role of allowing us to approximate with our data. It allows us to say \"I'm the true value of something that I'm measuring most likely falls between a and b.\" It also allows us to qualify it numerically, and say \"I'm 95% confident that the true value of a parameter falls between a and b.\" Confidence intervals and its formula differs based on the data and the type of situation it's being used in. "
      ]
    },
    {
      "cell_type": "markdown",
      "metadata": {
        "id": "dwFeEeKyX_4n"
      },
      "source": [
        "### One sample Confidence Intervals\n",
        "The main goal for one sample Confidence intervals is to be able to say \"I am some % certain that the mean is within this interval\" One sample confidnece intervals are mathematically calculated using these equations: \n",
        "![image.png](attachment:image.png)\n",
        "\n",
        "For example, we can say that we are 95% certain that the mean value of Mother height is between [62.328, 62.577]"
      ]
    },
    {
      "cell_type": "code",
      "metadata": {
        "id": "gLof5ZQWX_4o",
        "outputId": "301c1862-503a-42cf-a048-38c6c84b6ca2"
      },
      "source": [
        "confidence = .95\n",
        "degrees_of_freedom = height_df['Mheight'].shape[0] - 1\n",
        "mean = np.mean(height_df['Mheight'])\n",
        "standard_error = st.sem(height_df['Mheight'])\n",
        "print(\"Our confidence interval is: \", st.t.interval(confidence, degrees_of_freedom, loc = mean, scale = standard_error))"
      ],
      "execution_count": null,
      "outputs": [
        {
          "output_type": "stream",
          "text": [
            "Our confidence interval is:  (62.328208207548755, 62.57739179245125)\n"
          ],
          "name": "stdout"
        }
      ]
    },
    {
      "cell_type": "markdown",
      "metadata": {
        "id": "FF6UlHb7X_4o"
      },
      "source": [
        "### Two Sample Confidence Intervals\n",
        "\n",
        "Similar to the two sample hypothesis tests, there are three kinds of two-sample confidence intervals, the first is the two sample z test, and the second two are the two sample t-test with known population mean, and the two sample t-test with an unknown population mean. In this order, these are their respective equations:\n",
        "![image.png](attachment:image.png)\n",
        "\n",
        "The most commonly used two sample confidence interval is with unknown population, and can be easily found in Python like this:\n"
      ]
    },
    {
      "cell_type": "code",
      "metadata": {
        "id": "sQZbPjo-X_4p",
        "outputId": "f4d50dbc-0923-4ffe-8ab6-9592391320d3"
      },
      "source": [
        "mean = height_df['Mheight'].mean() - height_df['Dheight'].mean()\n",
        "n1 = len(height_df['Mheight'])\n",
        "n2 = len(height_df['Dheight'])\n",
        "sem = (np.sqrt((n1-1)*height_df['Mheight'].sem()**2 + (n2-1)*height_df['Dheight'].sem()**2)/(n1+n2-2))*(np.sqrt(1/n1 + 1/n2))\n",
        "lcb = mean - 1.96*sem  #lower limit of the CI\n",
        "ucb = mean + 1.96*sem  #upper limit of the CI\n",
        "(lcb, ucb)"
      ],
      "execution_count": null,
      "outputs": [
        {
          "output_type": "execute_result",
          "data": {
            "text/plain": [
              "(-1.2983499386324622, -1.2981591522766325)"
            ]
          },
          "metadata": {
            "tags": []
          },
          "execution_count": 44
        }
      ]
    },
    {
      "cell_type": "markdown",
      "metadata": {
        "id": "5A5DaqeKX_4p"
      },
      "source": [
        "# Getting Familar with Python\n",
        "\n",
        "For people that are new to using Python in a Notebook setting, this is probably a lot to take in. The good news is that even the most experienced Python data scientists spend a lot of time looking up documentation for functions. It's just a part of using Python, and is something that you'll get better at as time goes on. If you want to learn more about Python for Data Science, towardsdatascience.com is a great resource that you can leverage to learn more independently."
      ]
    }
  ]
}